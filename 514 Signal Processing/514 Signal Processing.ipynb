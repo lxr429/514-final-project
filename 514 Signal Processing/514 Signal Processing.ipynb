{
 "cells": [
  {
   "cell_type": "code",
   "execution_count": null,
   "metadata": {},
   "outputs": [],
   "source": [
    "import matplotlib.pyplot as plt\n",
    "\n",
    "# Update the exceptional conditions based on the new thresholds\n",
    "conditions_updated = (df['Soil Moisture'] > 740) & (df['Humidity'] > 56) & (df['Temperature'] > 25.8)\n",
    "\n",
    "# Mark the environment as exceptional when conditions are met\n",
    "df['Environment Exception Updated'] = conditions_updated\n",
    "\n",
    "# Select data points that meet the exceptional conditions for visualization\n",
    "exceptional_conditions_df_updated = df[conditions_updated]\n",
    "\n",
    "# Create the visualization\n",
    "plt.figure(figsize=(14, 7))\n",
    "\n",
    "# Soil Moisture plot\n",
    "plt.subplot(1, 3, 1)\n",
    "plt.plot(df['Soil Moisture'], label='Soil Moisture')\n",
    "plt.axhline(y=740, color='r', linestyle='--', label='Threshold (Soil Moisture > 740)')\n",
    "plt.title('Soil Moisture Over Time')\n",
    "plt.legend()\n",
    "\n",
    "# Humidity plot\n",
    "plt.subplot(1, 3, 2)\n",
    "plt.plot(df['Humidity'], label='Humidity')\n",
    "plt.axhline(y=56, color='r', linestyle='--', label='Threshold (Humidity > 56%)')\n",
    "plt.title('Humidity Over Time')\n",
    "plt.legend()\n",
    "\n",
    "# Temperature plot\n",
    "plt.subplot(1, 3, 3)\n",
    "plt.plot(df['Temperature'], label='Temperature')\n",
    "plt.axhline(y=25.8, color='r', linestyle='--', label='Threshold (Temperature > 25.8°C)')\n",
    "plt.title('Temperature Over Time')\n",
    "plt.legend()\n",
    "\n",
    "# Adjust the layout of the plot\n",
    "plt.tight_layout()\n",
    "plt.show()\n",
    "\n",
    "# Save the visualization image\n",
    "image_file_path = '/mnt/data/sensor_data_visualization_updated.png'\n",
    "plt.savefig(image_file_path)\n",
    "\n",
    "# Return the path of the image file\n",
    "image_file_path\n",
    "\n"
   ]
  }
 ],
 "metadata": {
  "language_info": {
   "name": "python"
  }
 },
 "nbformat": 4,
 "nbformat_minor": 2
}
